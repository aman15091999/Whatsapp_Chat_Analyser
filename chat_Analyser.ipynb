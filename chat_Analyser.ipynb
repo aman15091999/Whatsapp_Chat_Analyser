{
 "cells": [
  {
   "cell_type": "code",
   "execution_count": null,
   "id": "2e338a0b",
   "metadata": {},
   "outputs": [],
   "source": [
    "import re # check what is it (regular expression)\n",
    "import pandas as pd"
   ]
  },
  {
   "cell_type": "code",
   "execution_count": null,
   "id": "c4825ad0",
   "metadata": {},
   "outputs": [],
   "source": [
    "path_file = \"\"\n",
    "f = open(path_file,'r',encoding='utf-8')"
   ]
  },
  {
   "cell_type": "code",
   "execution_count": null,
   "id": "fa691250",
   "metadata": {},
   "outputs": [],
   "source": [
    "data = f.read() # read content in string format."
   ]
  },
  {
   "cell_type": "code",
   "execution_count": null,
   "id": "389f06a4",
   "metadata": {},
   "outputs": [],
   "source": [
    "print(type(data))"
   ]
  },
  {
   "cell_type": "code",
   "execution_count": null,
   "id": "db7a4f07",
   "metadata": {},
   "outputs": [],
   "source": [
    "print(data)\n",
    "# convert this into Pandas Data-Frame."
   ]
  },
  {
   "cell_type": "code",
   "execution_count": null,
   "id": "ac365678",
   "metadata": {},
   "outputs": [],
   "source": [
    "date = '\\d{1,2}/\\d{1,2}/\\d{2,4},\\s\\d{1,2}:\\d{2}\\s\\w\\w'\n",
    "messages = re.split(date, data)[1:]\n",
    "messages\n"
   ]
  },
  {
   "cell_type": "code",
   "execution_count": null,
   "id": "3966775f",
   "metadata": {},
   "outputs": [],
   "source": [
    "# Extract Date and time\n",
    "dates = re.findall(date, data)\n",
    "dates"
   ]
  },
  {
   "cell_type": "code",
   "execution_count": null,
   "id": "9c5d4ada",
   "metadata": {},
   "outputs": [],
   "source": [
    "len(dates)"
   ]
  },
  {
   "cell_type": "code",
   "execution_count": null,
   "id": "bc6eee77",
   "metadata": {},
   "outputs": [],
   "source": [
    "len(messages)"
   ]
  },
  {
   "cell_type": "code",
   "execution_count": null,
   "id": "45966865",
   "metadata": {},
   "outputs": [],
   "source": [
    "# delete text which has empty string\n",
    "del messages[27200:27311]"
   ]
  },
  {
   "cell_type": "code",
   "execution_count": null,
   "id": "a42da7d7",
   "metadata": {},
   "outputs": [],
   "source": [
    "\n",
    "len(messages)"
   ]
  },
  {
   "cell_type": "code",
   "execution_count": null,
   "id": "16055742",
   "metadata": {},
   "outputs": [],
   "source": [
    "dates[2]"
   ]
  },
  {
   "cell_type": "code",
   "execution_count": null,
   "id": "a51959a5",
   "metadata": {},
   "outputs": [],
   "source": [
    "# create DataFrame\n",
    "df = pd.DataFrame({'user_message':messages, 'messages_date':dates})\n",
    "# convert message_date type\n",
    "df['messages_date'] = pd.to_datetime(df['messages_date'], format='%m/%d/%y, %I:%M %p')\n",
    "\n",
    "df.rename(columns={'messages_date':'date'}, inplace=True)\n",
    "\n",
    "df.head()"
   ]
  },
  {
   "cell_type": "code",
   "execution_count": null,
   "id": "d2204983",
   "metadata": {},
   "outputs": [],
   "source": [
    "df.shape"
   ]
  },
  {
   "cell_type": "code",
   "execution_count": null,
   "id": "f81dd1c7",
   "metadata": {},
   "outputs": [],
   "source": [
    "# Now, split user_name from user_message.[separate users and messages]\n",
    "users = []\n",
    "message = []\n",
    "for msg in df['user_message']:\n",
    "    entry = re.split('([\\w\\W]+?):\\s', msg)\n",
    "    if entry[1:]:#user_name\n",
    "        users.append(entry[1])\n",
    "        message.append(entry[2])\n",
    "    else:\n",
    "        users.append('group_notification')\n",
    "        message.append(entry[0])\n",
    "df['user'] = users\n",
    "df['message'] = message\n",
    "df.drop(columns=['user_message'], inplace=True)\n",
    "\n",
    "df.head()"
   ]
  },
  {
   "cell_type": "code",
   "execution_count": null,
   "id": "6fd95e4e",
   "metadata": {},
   "outputs": [],
   "source": [
    "df['year'] = df['date'].dt.year\n",
    "df['month'] = df['date'].dt.month_name()\n",
    "df['day'] = df['date'].dt.day\n"
   ]
  },
  {
   "cell_type": "code",
   "execution_count": null,
   "id": "a1c0cb05",
   "metadata": {},
   "outputs": [],
   "source": [
    "df.head()"
   ]
  },
  {
   "cell_type": "code",
   "execution_count": null,
   "id": "02db871a",
   "metadata": {},
   "outputs": [],
   "source": [
    "df['hour'] = df['date'].dt.hour\n",
    "df['minute'] = df['date'].dt.minute"
   ]
  },
  {
   "cell_type": "code",
   "execution_count": null,
   "id": "90fb4970",
   "metadata": {},
   "outputs": [],
   "source": [
    "df.head()"
   ]
  },
  {
   "cell_type": "markdown",
   "id": "1b135dea",
   "metadata": {},
   "source": [
    "# DataFrame Ready"
   ]
  },
  {
   "cell_type": "code",
   "execution_count": null,
   "id": "85ab424b",
   "metadata": {},
   "outputs": [],
   "source": [
    "# user_list = df['user'].unique().tolist()\n",
    "# print(user_list)"
   ]
  },
  {
   "cell_type": "code",
   "execution_count": null,
   "id": "c044493f",
   "metadata": {},
   "outputs": [],
   "source": [
    "# df['user'].value_counts()"
   ]
  },
  {
   "cell_type": "code",
   "execution_count": null,
   "id": "ad4fb2b9",
   "metadata": {},
   "outputs": [],
   "source": [
    "# delete_user_list = ['coordinate (h) ', 'coordinate (k) ', 'Home']# Personal Delete\n",
    "# user_list.remove('Home')# Personal Delete\n",
    "# user_list"
   ]
  },
  {
   "cell_type": "code",
   "execution_count": null,
   "id": "e74fe880",
   "metadata": {},
   "outputs": [],
   "source": [
    "# words = []\n",
    "# for msg in df['message']:\n",
    "#     words.extend(msg.split())"
   ]
  },
  {
   "cell_type": "code",
   "execution_count": null,
   "id": "4e875717",
   "metadata": {},
   "outputs": [],
   "source": [
    "\n",
    "# len(words)"
   ]
  },
  {
   "cell_type": "code",
   "execution_count": null,
   "id": "1b8e53f1",
   "metadata": {},
   "outputs": [],
   "source": [
    "# new_df = df[df['user'] == 'user_name']"
   ]
  },
  {
   "cell_type": "code",
   "execution_count": null,
   "id": "f3a82e82",
   "metadata": {},
   "outputs": [],
   "source": [
    "# len(new_df[new_df['message'] == '<Media omitted>'])"
   ]
  },
  {
   "cell_type": "code",
   "execution_count": null,
   "id": "0638cb77",
   "metadata": {},
   "outputs": [],
   "source": [
    "# pip install urlextract"
   ]
  },
  {
   "cell_type": "code",
   "execution_count": null,
   "id": "2da43618",
   "metadata": {},
   "outputs": [],
   "source": [
    "# Extract all links in chat\n",
    "# from urlextract import URLExtract"
   ]
  },
  {
   "cell_type": "code",
   "execution_count": null,
   "id": "9474c733",
   "metadata": {},
   "outputs": [],
   "source": [
    "# extractor = URLExtract()\n",
    "# urls = extractor.find_urls('www.abc.org taos www.abamnad.com snd https://ramlasksan.in')\n",
    "# urls"
   ]
  },
  {
   "cell_type": "code",
   "execution_count": null,
   "id": "6a278a29",
   "metadata": {},
   "outputs": [],
   "source": [
    "# links = []\n",
    "# for msg in df['message']:\n",
    "#     links.extend(extractor.find_urls(msg))\n",
    "# links"
   ]
  },
  {
   "cell_type": "code",
   "execution_count": null,
   "id": "7e7611fd",
   "metadata": {},
   "outputs": [],
   "source": [
    "# x = df['user'].value_counts().head()"
   ]
  },
  {
   "cell_type": "code",
   "execution_count": null,
   "id": "85d04bc1",
   "metadata": {},
   "outputs": [],
   "source": [
    "# import matplotlib.pyplot as plt"
   ]
  },
  {
   "cell_type": "code",
   "execution_count": null,
   "id": "1989a2ce",
   "metadata": {},
   "outputs": [],
   "source": [
    "# name = x.index\n",
    "# count = x.values"
   ]
  },
  {
   "cell_type": "code",
   "execution_count": null,
   "id": "be8b885a",
   "metadata": {},
   "outputs": [],
   "source": [
    "# plt.bar(name, count)\n",
    "# plt.xticks(rotation = 'vertical')\n",
    "# plt.show()"
   ]
  },
  {
   "cell_type": "code",
   "execution_count": null,
   "id": "76d4cf1f",
   "metadata": {},
   "outputs": [],
   "source": [
    "# round((df['user'].value_counts()/df.shape[0])*100,2).reset_index().rename(columns={'index':'"
   ]
  },
  {
   "cell_type": "code",
   "execution_count": null,
   "id": "a76d2ed5",
   "metadata": {},
   "outputs": [],
   "source": [
    "words = []\n",
    "for msg in df['message']:\n",
    "    words.extend(msg.split())\n",
    "words"
   ]
  },
  {
   "cell_type": "code",
   "execution_count": null,
   "id": "cf33d028",
   "metadata": {},
   "outputs": [],
   "source": [
    "from collections import Counter\n",
    "pd.DataFrame(Counter(words).most_common(20))"
   ]
  },
  {
   "cell_type": "code",
   "execution_count": null,
   "id": "f1034d5a",
   "metadata": {},
   "outputs": [],
   "source": [
    "# remove - group notifications messages \n",
    "# remove - media omitted\n",
    "# remove - stop words"
   ]
  },
  {
   "cell_type": "code",
   "execution_count": null,
   "id": "ef88a573",
   "metadata": {},
   "outputs": [],
   "source": [
    "# df[df['user'] == 'group_notification']"
   ]
  },
  {
   "cell_type": "code",
   "execution_count": null,
   "id": "2e8bcdab",
   "metadata": {},
   "outputs": [],
   "source": [
    "df[df['user'] != 'group_notification']"
   ]
  },
  {
   "cell_type": "code",
   "execution_count": null,
   "id": "e31a8d70",
   "metadata": {},
   "outputs": [],
   "source": [
    "df[df['message'] == '<Media omitted>']"
   ]
  },
  {
   "cell_type": "code",
   "execution_count": null,
   "id": "657b33d7",
   "metadata": {},
   "outputs": [],
   "source": [
    "f = open('stop_hinglish.txt', 'r')\n",
    "stop_words = f.read()\n",
    "print(stop_words)"
   ]
  },
  {
   "cell_type": "code",
   "execution_count": null,
   "id": "84ec6697",
   "metadata": {},
   "outputs": [],
   "source": [
    "temp = df[df['user'] != 'group_notification']\n",
    "temp = temp[temp['message'] != '<Media omitted>']"
   ]
  },
  {
   "cell_type": "code",
   "execution_count": null,
   "id": "59612491",
   "metadata": {},
   "outputs": [],
   "source": [
    "words = []\n",
    "for msg in temp['message']:\n",
    "    for word in msg.lower().split():\n",
    "        if word not in stop_words:\n",
    "            words.append(word)\n",
    "words"
   ]
  },
  {
   "cell_type": "code",
   "execution_count": null,
   "id": "3608df62",
   "metadata": {},
   "outputs": [],
   "source": [
    "from collections import Counter\n",
    "pd.DataFrame(Counter(words).most_common(20))"
   ]
  },
  {
   "cell_type": "code",
   "execution_count": null,
   "id": "b460fe38",
   "metadata": {},
   "outputs": [],
   "source": [
    "pip install emoji\n",
    "import emoji"
   ]
  },
  {
   "cell_type": "code",
   "execution_count": null,
   "id": "a520a488",
   "metadata": {},
   "outputs": [],
   "source": [
    "emojis = []\n",
    "for msg in df['message']:\n",
    "    emojis.extend([c for c in msg if c in emoji.UNICODE_EMOJI['en']])"
   ]
  },
  {
   "cell_type": "code",
   "execution_count": null,
   "id": "d09397df",
   "metadata": {},
   "outputs": [],
   "source": [
    "emojis_df = pd.DataFrame(Counter(emojis).most_common(20))"
   ]
  },
  {
   "cell_type": "code",
   "execution_count": null,
   "id": "349f120f",
   "metadata": {},
   "outputs": [],
   "source": [
    "import matplotlib.pyplot as plt\n",
    "fig, ax = plt.subplots()\n",
    "ax.pie(emojis_df[1].head(), labels=emojis_df[0].head(), autopct='%0.2f')\n",
    "plt.show()"
   ]
  },
  {
   "cell_type": "code",
   "execution_count": null,
   "id": "5b6ed6ff",
   "metadata": {},
   "outputs": [],
   "source": [
    "df['month_num'] = df['date'].dt.month"
   ]
  },
  {
   "cell_type": "code",
   "execution_count": null,
   "id": "9c5af431",
   "metadata": {},
   "outputs": [],
   "source": [
    "timeline = df.groupby(['year', 'month_num','month']).count()['message'].reset_index()"
   ]
  },
  {
   "cell_type": "code",
   "execution_count": null,
   "id": "6e00338d",
   "metadata": {},
   "outputs": [],
   "source": [
    "timeline"
   ]
  },
  {
   "cell_type": "code",
   "execution_count": null,
   "id": "b57d74bc",
   "metadata": {},
   "outputs": [],
   "source": [
    "# merge the month and year.\n",
    "time = []\n",
    "for i in range(timeline.shape[0]):\n",
    "    time.append(timeline['month'][i]  + ',' + str(timeline['year'][i]))"
   ]
  },
  {
   "cell_type": "code",
   "execution_count": null,
   "id": "a6c5b4fb",
   "metadata": {},
   "outputs": [],
   "source": [
    "timeline['time'] = time"
   ]
  },
  {
   "cell_type": "code",
   "execution_count": null,
   "id": "0a5dfe28",
   "metadata": {},
   "outputs": [],
   "source": [
    "timeline"
   ]
  },
  {
   "cell_type": "code",
   "execution_count": null,
   "id": "62509717",
   "metadata": {},
   "outputs": [],
   "source": [
    "plt.plot(timeline['time'], timeline['message'])\n",
    "plt.xticks(rotation='vertical')\n",
    "plt.show();"
   ]
  },
  {
   "cell_type": "code",
   "execution_count": null,
   "id": "5059a24b",
   "metadata": {},
   "outputs": [],
   "source": [
    "# Date timeline\n",
    "df.head()"
   ]
  },
  {
   "cell_type": "code",
   "execution_count": null,
   "id": "d8b21fd5",
   "metadata": {},
   "outputs": [],
   "source": [
    "df['only_date'] = df['date'].dt.date"
   ]
  },
  {
   "cell_type": "code",
   "execution_count": null,
   "id": "10cc3e7a",
   "metadata": {},
   "outputs": [],
   "source": [
    "daily_timeline = df.groupby('only_date').count()['message'].reset_index()"
   ]
  },
  {
   "cell_type": "code",
   "execution_count": null,
   "id": "587130d7",
   "metadata": {},
   "outputs": [],
   "source": [
    "# daily_timeline"
   ]
  },
  {
   "cell_type": "code",
   "execution_count": null,
   "id": "bb53c6c0",
   "metadata": {},
   "outputs": [],
   "source": [
    "plt.figure(figsize=(10,10))\n",
    "plt.plot(daily_timeline['only_date'], daily_timeline['message'])\n",
    "plt.xticks(rotation = 'vertical')\n",
    "plt.show();"
   ]
  },
  {
   "cell_type": "code",
   "execution_count": null,
   "id": "4a461095",
   "metadata": {},
   "outputs": [],
   "source": [
    "# How and at what the person get active in group."
   ]
  },
  {
   "cell_type": "code",
   "execution_count": null,
   "id": "f0df5c21",
   "metadata": {},
   "outputs": [],
   "source": [
    "df['day_name'] = df['date'].dt.day_name()"
   ]
  },
  {
   "cell_type": "code",
   "execution_count": null,
   "id": "73254baa",
   "metadata": {},
   "outputs": [],
   "source": [
    "df['day_name'].value_counts()"
   ]
  },
  {
   "cell_type": "code",
   "execution_count": null,
   "id": "9a839a8b",
   "metadata": {},
   "outputs": [],
   "source": [
    "# Create Heatmap to check active timing of the user.\n",
    "df.head()"
   ]
  },
  {
   "cell_type": "code",
   "execution_count": null,
   "id": "d8f33d4c",
   "metadata": {},
   "outputs": [],
   "source": [
    "# humko timing ka range create krna pdega\n",
    "period = []\n",
    "for hour in df[['day_name', 'hour']]['hour']:\n",
    "    if hour == 23:\n",
    "        period.append(str(hour) + '-' + str('00'))\n",
    "    elif hour < 9:\n",
    "        period.append(str('0') + str(hour) +  '-' + str('0') + str(hour+1))\n",
    "    elif hour == 9:\n",
    "           period.append(str('0') + str(hour) +  '-' + str(hour+1))\n",
    "    else:\n",
    "        period.append(str(hour) + '-' + str(hour+1))"
   ]
  },
  {
   "cell_type": "code",
   "execution_count": null,
   "id": "a47e0368",
   "metadata": {},
   "outputs": [],
   "source": [
    "\n",
    "df['period'] = period"
   ]
  },
  {
   "cell_type": "code",
   "execution_count": null,
   "id": "72014851",
   "metadata": {},
   "outputs": [],
   "source": [
    "# df.sort_values('period' , inplace=True)"
   ]
  },
  {
   "cell_type": "code",
   "execution_count": null,
   "id": "083d87fb",
   "metadata": {},
   "outputs": [],
   "source": [
    "\n",
    "import seaborn as sns"
   ]
  },
  {
   "cell_type": "code",
   "execution_count": null,
   "id": "1a407c22",
   "metadata": {},
   "outputs": [],
   "source": [
    "plt.figure(figsize=(20,6))\n",
    "sns.heatmap(df.pivot_table(index='day_name', columns='period', values='message', aggfunc='count').fillna(0))\n",
    "plt.yticks(rotation='horizontal')\n",
    "plt.show()"
   ]
  },
  {
   "cell_type": "code",
   "execution_count": null,
   "id": "08622ca1",
   "metadata": {},
   "outputs": [],
   "source": [
    "df.head()"
   ]
  },
  {
   "cell_type": "code",
   "execution_count": null,
   "id": "072d180f",
   "metadata": {},
   "outputs": [],
   "source": []
  },
  {
   "cell_type": "code",
   "execution_count": null,
   "id": "98b30aa6",
   "metadata": {},
   "outputs": [],
   "source": []
  },
  {
   "cell_type": "code",
   "execution_count": null,
   "id": "6adadba1",
   "metadata": {},
   "outputs": [],
   "source": []
  },
  {
   "cell_type": "code",
   "execution_count": null,
   "id": "38fd2749",
   "metadata": {},
   "outputs": [],
   "source": []
  },
  {
   "cell_type": "code",
   "execution_count": null,
   "id": "c3110ae5",
   "metadata": {},
   "outputs": [],
   "source": []
  },
  {
   "cell_type": "code",
   "execution_count": null,
   "id": "8e85c871",
   "metadata": {},
   "outputs": [],
   "source": []
  },
  {
   "cell_type": "code",
   "execution_count": null,
   "id": "f355828f",
   "metadata": {},
   "outputs": [],
   "source": []
  },
  {
   "cell_type": "code",
   "execution_count": null,
   "id": "a5060321",
   "metadata": {},
   "outputs": [],
   "source": []
  }
 ],
 "metadata": {
  "kernelspec": {
   "display_name": "Python 3 (ipykernel)",
   "language": "python",
   "name": "python3"
  },
  "language_info": {
   "codemirror_mode": {
    "name": "ipython",
    "version": 3
   },
   "file_extension": ".py",
   "mimetype": "text/x-python",
   "name": "python",
   "nbconvert_exporter": "python",
   "pygments_lexer": "ipython3",
   "version": "3.10.5"
  }
 },
 "nbformat": 4,
 "nbformat_minor": 5
}
